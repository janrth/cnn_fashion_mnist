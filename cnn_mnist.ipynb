{
 "cells": [
  {
   "cell_type": "code",
   "execution_count": 10,
   "id": "e3686562-a590-46fc-8939-8d7e28518306",
   "metadata": {},
   "outputs": [],
   "source": [
    "import numpy as np\n",
    "import matplotlib.pyplot as plt"
   ]
  },
  {
   "cell_type": "code",
   "execution_count": 118,
   "id": "65c61c40-d9df-4a44-8a57-71bab592064f",
   "metadata": {},
   "outputs": [],
   "source": [
    "from keras.datasets import mnist\n",
    "from keras.utils import to_categorical\n",
    "\n",
    "from keras.models import Sequential, Model\n",
    "from keras.layers import Dense, Activation, Dropout, Conv2D, AveragePooling2D, MaxPooling2D, Flatten\n",
    "from keras.optimizers import Adam"
   ]
  },
  {
   "cell_type": "code",
   "execution_count": null,
   "id": "2e9c430e",
   "metadata": {},
   "outputs": [],
   "source": [
    "# conda activate py36"
   ]
  },
  {
   "cell_type": "code",
   "execution_count": 55,
   "id": "624a854c-8143-4944-8af9-3655eb148aff",
   "metadata": {},
   "outputs": [],
   "source": [
    "(X_train, Y_train), (X_test, Y_test) = mnist.load_data()"
   ]
  },
  {
   "cell_type": "code",
   "execution_count": 56,
   "id": "52497fae",
   "metadata": {},
   "outputs": [],
   "source": [
    "width = height = X_train.shape[1]"
   ]
  },
  {
   "cell_type": "code",
   "execution_count": 57,
   "id": "f3b4d2e0",
   "metadata": {},
   "outputs": [
    {
     "data": {
      "text/plain": [
       "<matplotlib.image.AxesImage at 0x7ff4b9d00358>"
      ]
     },
     "execution_count": 57,
     "metadata": {},
     "output_type": "execute_result"
    },
    {
     "data": {
      "image/png": "[encoded data removed]",
      "text/plain": [
       "<Figure size 432x288 with 1 Axes>"
      ]
     },
     "metadata": {
      "needs_background": "light"
     },
     "output_type": "display_data"
    }
   ],
   "source": [
    "plt.imshow(X_train[1])"
   ]
  },
  {
   "cell_type": "code",
   "execution_count": 58,
   "id": "b5b5c64c",
   "metadata": {},
   "outputs": [],
   "source": [
    "max_rbg_value = 255\n",
    "\n",
    "X_train = X_train.reshape((X_train.shape[0],\n",
    "                          width,\n",
    "                          height,\n",
    "                          1)).astype(np.float32)/max_rbg_value\n",
    "\n",
    "X_test = X_test.reshape((X_test.shape[0],\n",
    "                          width,\n",
    "                          height,\n",
    "                          1)).astype(np.float32)/max_rbg_value\n",
    "\n",
    "Y_train = to_categorical(Y_train, num_classes=10)\n",
    "Y_test = to_categorical(Y_test, num_classes=10)"
   ]
  },
  {
   "cell_type": "code",
   "execution_count": 59,
   "id": "1284248f",
   "metadata": {},
   "outputs": [],
   "source": [
    "# build cnn model:\n",
    "\n",
    "model = Sequential()\n",
    "\n",
    "model.add(Dropout(.25, input_shape=(width, height, 1), seed=1000))\n",
    "\n",
    "model.add(Conv2D(filters=16, kernel_size=(3,3), padding='same'))\n",
    "model.add(Activation('relu'))\n",
    "model.add(Dropout(.5, seed=1000))\n",
    "\n",
    "model.add(Conv2D(filters=32, kernel_size=(3,3), padding='same'))\n",
    "model.add(Activation('relu'))\n",
    "model.add(Dropout(.5, seed=1000))\n",
    "\n",
    "model.add(AveragePooling2D(pool_size=(2,2), padding='same'))\n",
    "\n",
    "model.add(Conv2D(filters=64, kernel_size=(3,3), padding='same'))\n",
    "model.add(Activation('relu'))\n",
    "\n",
    "model.add(AveragePooling2D(pool_size=(2,2), padding='same'))\n",
    "\n",
    "model.add(Conv2D(filters=64, kernel_size=(3,3), padding='same'))\n",
    "model.add(Activation('relu'))\n",
    "model.add(Dropout(.5, seed=1000))\n",
    "\n",
    "model.add(AveragePooling2D(pool_size=(2,2), padding='same'))\n",
    "\n",
    "model.add(Flatten())\n",
    "\n",
    "model.add(Dense(1024))\n",
    "model.add(Activation('relu'))\n",
    "model.add(Dropout(.5, seed=1000))\n",
    "\n",
    "model.add(Dense(10))\n",
    "model.add(Activation('softmax'))\n",
    "\n",
    "model.compile(optimizer=Adam(lr=.001, \n",
    "                             decay=1e-5),\n",
    "                             loss='categorical_crossentropy',\n",
    "                             metrics=['accuracy'])"
   ]
  },
  {
   "cell_type": "code",
   "execution_count": 68,
   "id": "4e4008df",
   "metadata": {},
   "outputs": [
    {
     "name": "stdout",
     "output_type": "stream",
     "text": [
      "Model: \"sequential_9\"\n",
      "_________________________________________________________________\n",
      "Layer (type)                 Output Shape              Param #   \n",
      "=================================================================\n",
      "dropout_28 (Dropout)         (None, 28, 28, 1)         0         \n",
      "_________________________________________________________________\n",
      "conv2d_22 (Conv2D)           (None, 28, 28, 16)        160       \n",
      "_________________________________________________________________\n",
      "activation_29 (Activation)   (None, 28, 28, 16)        0         \n",
      "_________________________________________________________________\n",
      "dropout_29 (Dropout)         (None, 28, 28, 16)        0         \n",
      "_________________________________________________________________\n",
      "conv2d_23 (Conv2D)           (None, 28, 28, 32)        4640      \n",
      "_________________________________________________________________\n",
      "activation_30 (Activation)   (None, 28, 28, 32)        0         \n",
      "_________________________________________________________________\n",
      "dropout_30 (Dropout)         (None, 28, 28, 32)        0         \n",
      "_________________________________________________________________\n",
      "average_pooling2d_13 (Averag (None, 14, 14, 32)        0         \n",
      "_________________________________________________________________\n",
      "conv2d_24 (Conv2D)           (None, 14, 14, 64)        18496     \n",
      "_________________________________________________________________\n",
      "activation_31 (Activation)   (None, 14, 14, 64)        0         \n",
      "_________________________________________________________________\n",
      "average_pooling2d_14 (Averag (None, 7, 7, 64)          0         \n",
      "_________________________________________________________________\n",
      "conv2d_25 (Conv2D)           (None, 7, 7, 64)          36928     \n",
      "_________________________________________________________________\n",
      "activation_32 (Activation)   (None, 7, 7, 64)          0         \n",
      "_________________________________________________________________\n",
      "dropout_31 (Dropout)         (None, 7, 7, 64)          0         \n",
      "_________________________________________________________________\n",
      "average_pooling2d_15 (Averag (None, 4, 4, 64)          0         \n",
      "_________________________________________________________________\n",
      "flatten_5 (Flatten)          (None, 1024)              0         \n",
      "_________________________________________________________________\n",
      "dense_9 (Dense)              (None, 1024)              1049600   \n",
      "_________________________________________________________________\n",
      "activation_33 (Activation)   (None, 1024)              0         \n",
      "_________________________________________________________________\n",
      "dropout_32 (Dropout)         (None, 1024)              0         \n",
      "_________________________________________________________________\n",
      "dense_10 (Dense)             (None, 10)                10250     \n",
      "_________________________________________________________________\n",
      "activation_34 (Activation)   (None, 10)                0         \n",
      "=================================================================\n",
      "Total params: 1,120,074\n",
      "Trainable params: 1,120,074\n",
      "Non-trainable params: 0\n",
      "_________________________________________________________________\n"
     ]
    }
   ],
   "source": [
    "model.summary()"
   ]
  },
  {
   "cell_type": "code",
   "execution_count": 63,
   "id": "c52407ec",
   "metadata": {},
   "outputs": [
    {
     "name": "stdout",
     "output_type": "stream",
     "text": [
      "Train on 60000 samples, validate on 10000 samples\n",
      "Epoch 1/3\n",
      "60000/60000 [==============================] - 842s 14ms/step - loss: 0.1578 - accuracy: 0.9512 - val_loss: 0.0717 - val_accuracy: 0.9784\n",
      "Epoch 2/3\n",
      "60000/60000 [==============================] - 283s 5ms/step - loss: 0.1212 - accuracy: 0.9626 - val_loss: 0.0596 - val_accuracy: 0.9800\n",
      "Epoch 3/3\n",
      "60000/60000 [==============================] - 277s 5ms/step - loss: 0.0981 - accuracy: 0.9693 - val_loss: 0.0420 - val_accuracy: 0.9879\n"
     ]
    }
   ],
   "source": [
    "# Train model:\n",
    "\n",
    "history = model.fit(X_train, Y_train,\n",
    "                   epochs=3,\n",
    "                   batch_size=256,\n",
    "                   validation_data=(X_test, Y_test))"
   ]
  },
  {
   "cell_type": "code",
   "execution_count": 65,
   "id": "adeead59",
   "metadata": {},
   "outputs": [
    {
     "data": {
      "text/plain": [
       "{'val_loss': [0.07169464506804943, 0.05961701166778803, 0.04197824342772365],\n",
       " 'val_accuracy': [0.9783999919891357, 0.9800000190734863, 0.9879000186920166],\n",
       " 'loss': [0.15775965042114257, 0.12123704603910446, 0.09813033686478932],\n",
       " 'accuracy': [0.95115, 0.9625667, 0.96928334]}"
      ]
     },
     "execution_count": 65,
     "metadata": {},
     "output_type": "execute_result"
    }
   ],
   "source": [
    "history.history"
   ]
  },
  {
   "cell_type": "code",
   "execution_count": 67,
   "id": "81ab321b",
   "metadata": {},
   "outputs": [
    {
     "data": {
      "image/png": "[encoded data removed]",
      "text/plain": [
       "<Figure size 432x288 with 1 Axes>"
      ]
     },
     "metadata": {
      "needs_background": "light"
     },
     "output_type": "display_data"
    }
   ],
   "source": [
    "# Plot train history:\n",
    "\n",
    "plt.plot(history.history['accuracy'], label='train')\n",
    "plt.plot(history.history['val_accuracy'], label='test')\n",
    "plt.title('model accuracy')\n",
    "plt.ylabel('accuracy')\n",
    "plt.xlabel('epoch')\n",
    "plt.legend(loc='upper left')\n",
    "plt.show()"
   ]
  },
  {
   "cell_type": "markdown",
   "id": "34319ee1",
   "metadata": {},
   "source": [
    "### Visualization of feature maps"
   ]
  },
  {
   "cell_type": "code",
   "execution_count": 97,
   "id": "8b74a4ea",
   "metadata": {},
   "outputs": [
    {
     "name": "stdout",
     "output_type": "stream",
     "text": [
      "conv2d_22 (3, 3, 1, 16)\n",
      "conv2d_23 (3, 3, 16, 32)\n",
      "conv2d_24 (3, 3, 32, 64)\n",
      "conv2d_25 (3, 3, 64, 64)\n"
     ]
    }
   ],
   "source": [
    "# summarize filters in each convolutional layer\n",
    "\n",
    "# summarize filter shapes\n",
    "for layer in model.layers:\n",
    "    # check for convolutional layer\n",
    "    if 'conv' not in layer.name:\n",
    "        continue\n",
    "    # get filter weights\n",
    "    filters, biases = layer.get_weights()\n",
    "    print(layer.name, filters.shape)"
   ]
  },
  {
   "cell_type": "code",
   "execution_count": 106,
   "id": "3baeac6a",
   "metadata": {},
   "outputs": [],
   "source": [
    "# retrieve weights from the second hidden layer\n",
    "filters, biases = model.layers[1].get_weights()"
   ]
  },
  {
   "cell_type": "code",
   "execution_count": 107,
   "id": "33175a22",
   "metadata": {},
   "outputs": [],
   "source": [
    "\n",
    "# normalize filter values to 0-1 so we can visualize them\n",
    "f_min, f_max = filters.min(), filters.max()\n",
    "filters = (filters - f_min) / (f_max - f_min)"
   ]
  },
  {
   "cell_type": "code",
   "execution_count": 108,
   "id": "4b16c79e",
   "metadata": {},
   "outputs": [
    {
     "data": {
      "image/png": "[encoded data removed]",
      "text/plain": [
       "<Figure size 1440x864 with 16 Axes>"
      ]
     },
     "metadata": {},
     "output_type": "display_data"
    }
   ],
   "source": [
    "# plot first few filters\n",
    "n_filters, ix = 16, 1\n",
    "plt.figure(figsize=(20,12))\n",
    "for i in range(n_filters):\n",
    "    # get the filter\n",
    "    f = filters[:, :, :, i]\n",
    "    # plot each channel separately\n",
    "    for j in range(1):\n",
    "        # specify subplot and turn of axis\n",
    "        ax = plt.subplot(n_filters, 3, ix)\n",
    "        ax.set_xticks([])\n",
    "        ax.set_yticks([])\n",
    "        # plot filter channel in grayscale\n",
    "        plt.imshow(f[:, :, j], cmap='gray')\n",
    "        ix += 1\n",
    "# show the figure\n",
    "plt.show()"
   ]
  },
  {
   "cell_type": "code",
   "execution_count": 162,
   "id": "1a39575a",
   "metadata": {},
   "outputs": [
    {
     "name": "stdout",
     "output_type": "stream",
     "text": [
      "Model: \"model_8\"\n",
      "_________________________________________________________________\n",
      "Layer (type)                 Output Shape              Param #   \n",
      "=================================================================\n",
      "dropout_28_input (InputLayer (None, 28, 28, 1)         0         \n",
      "_________________________________________________________________\n",
      "dropout_28 (Dropout)         (None, 28, 28, 1)         0         \n",
      "_________________________________________________________________\n",
      "conv2d_22 (Conv2D)           (None, 28, 28, 16)        160       \n",
      "=================================================================\n",
      "Total params: 160\n",
      "Trainable params: 160\n",
      "Non-trainable params: 0\n",
      "_________________________________________________________________\n"
     ]
    },
    {
     "name": "stderr",
     "output_type": "stream",
     "text": [
      "/Users/janrathfelder/.local/lib/python3.6/site-packages/ipykernel_launcher.py:3: UserWarning: Update your `Model` call to the Keras 2 API: `Model(inputs=Tensor(\"dr..., outputs=Tensor(\"co...)`\n",
      "  This is separate from the ipykernel package so we can avoid doing imports until\n"
     ]
    }
   ],
   "source": [
    "# plot first feature map\n",
    "\n",
    "feature_map_model = Model(inputs=model.input, output=model.layers[1].output)\n",
    "\n",
    "feature_map_model.summary()"
   ]
  },
  {
   "cell_type": "code",
   "execution_count": 163,
   "id": "01ec8ff5",
   "metadata": {},
   "outputs": [],
   "source": [
    "feature_maps = feature_map_model.predict(X_train[0].reshape(1,28,28,1))"
   ]
  },
  {
   "cell_type": "code",
   "execution_count": 164,
   "id": "6d3e558d",
   "metadata": {},
   "outputs": [
    {
     "data": {
      "image/png": "[encoded data removed]",
      "text/plain": [
       "<Figure size 1440x864 with 16 Axes>"
      ]
     },
     "metadata": {},
     "output_type": "display_data"
    }
   ],
   "source": [
    "square = 4\n",
    "ix = 1\n",
    "plt.figure(figsize=(20,12))\n",
    "\n",
    "for _ in range(square):\n",
    "    for _ in range(square):\n",
    "        # specify subplot and turn of axis\n",
    "        ax = plt.subplot(square, square, ix)\n",
    "        ax.set_xticks([])\n",
    "        ax.set_yticks([])\n",
    "        # plot filter channel in grayscale\n",
    "        plt.imshow(feature_maps[0, :, :, ix-1], cmap='gray')\n",
    "        ix += 1\n",
    "# show the figure\n",
    "plt.show()"
   ]
  },
  {
   "cell_type": "code",
   "execution_count": 165,
   "id": "8f4d0933",
   "metadata": {},
   "outputs": [
    {
     "name": "stdout",
     "output_type": "stream",
     "text": [
      "Model: \"model_9\"\n",
      "_________________________________________________________________\n",
      "Layer (type)                 Output Shape              Param #   \n",
      "=================================================================\n",
      "dropout_28_input (InputLayer (None, 28, 28, 1)         0         \n",
      "_________________________________________________________________\n",
      "dropout_28 (Dropout)         (None, 28, 28, 1)         0         \n",
      "_________________________________________________________________\n",
      "conv2d_22 (Conv2D)           (None, 28, 28, 16)        160       \n",
      "_________________________________________________________________\n",
      "activation_29 (Activation)   (None, 28, 28, 16)        0         \n",
      "_________________________________________________________________\n",
      "dropout_29 (Dropout)         (None, 28, 28, 16)        0         \n",
      "_________________________________________________________________\n",
      "conv2d_23 (Conv2D)           (None, 28, 28, 32)        4640      \n",
      "_________________________________________________________________\n",
      "activation_30 (Activation)   (None, 28, 28, 32)        0         \n",
      "_________________________________________________________________\n",
      "dropout_30 (Dropout)         (None, 28, 28, 32)        0         \n",
      "_________________________________________________________________\n",
      "average_pooling2d_13 (Averag (None, 14, 14, 32)        0         \n",
      "_________________________________________________________________\n",
      "conv2d_24 (Conv2D)           (None, 14, 14, 64)        18496     \n",
      "_________________________________________________________________\n",
      "activation_31 (Activation)   (None, 14, 14, 64)        0         \n",
      "=================================================================\n",
      "Total params: 23,296\n",
      "Trainable params: 23,296\n",
      "Non-trainable params: 0\n",
      "_________________________________________________________________\n"
     ]
    },
    {
     "name": "stderr",
     "output_type": "stream",
     "text": [
      "/Users/janrathfelder/.local/lib/python3.6/site-packages/ipykernel_launcher.py:3: UserWarning: Update your `Model` call to the Keras 2 API: `Model(inputs=Tensor(\"dr..., outputs=Tensor(\"ac...)`\n",
      "  This is separate from the ipykernel package so we can avoid doing imports until\n"
     ]
    }
   ],
   "source": [
    "# print feature map from deeper layer\n",
    "\n",
    "deep_layer = Model(inputs=model.input, output=model.layers[9].output)\n",
    "\n",
    "deep_layer.summary()"
   ]
  },
  {
   "cell_type": "code",
   "execution_count": 166,
   "id": "6d64cd4b",
   "metadata": {},
   "outputs": [],
   "source": [
    "feature_maps = deep_layer.predict(X_train[0].reshape(1,28,28,1))"
   ]
  },
  {
   "cell_type": "code",
   "execution_count": 167,
   "id": "db626881",
   "metadata": {},
   "outputs": [
    {
     "data": {
      "image/png": "[encoded data removed]",
      "text/plain": [
       "<Figure size 1440x864 with 64 Axes>"
      ]
     },
     "metadata": {},
     "output_type": "display_data"
    }
   ],
   "source": [
    "square = 8\n",
    "ix = 1\n",
    "plt.figure(figsize=(20,12))\n",
    "\n",
    "for _ in range(square):\n",
    "    for _ in range(square):\n",
    "        # specify subplot and turn of axis\n",
    "        ax = plt.subplot(square, square, ix)\n",
    "        ax.set_xticks([])\n",
    "        ax.set_yticks([])\n",
    "        # plot filter channel in grayscale\n",
    "        plt.imshow(feature_maps[0, :, :, ix-1], cmap='gray')\n",
    "        ix += 1\n",
    "# show the figure\n",
    "plt.show()"
   ]
  },
  {
   "cell_type": "code",
   "execution_count": null,
   "id": "e1e1432a",
   "metadata": {},
   "outputs": [],
   "source": []
  }
 ],
 "metadata": {
  "kernelspec": {
   "display_name": "Python 3",
   "language": "python",
   "name": "python3"
  },
  "language_info": {
   "codemirror_mode": {
    "name": "ipython",
    "version": 3
   },
   "file_extension": ".py",
   "mimetype": "text/x-python",
   "name": "python",
   "nbconvert_exporter": "python",
   "pygments_lexer": "ipython3",
   "version": "3.6.13"
  }
 },
 "nbformat": 4,
 "nbformat_minor": 5
}
