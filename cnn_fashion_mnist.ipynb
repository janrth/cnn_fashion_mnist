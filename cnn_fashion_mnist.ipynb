{
 "cells": [
  {
   "cell_type": "code",
   "execution_count": 18,
   "id": "c4c37c26",
   "metadata": {},
   "outputs": [],
   "source": [
    "import numpy as np\n",
    "import matplotlib.pyplot as plt\n",
    "\n",
    "from keras.datasets import fashion_mnist\n",
    "from keras.utils import to_categorical\n",
    "\n",
    "from keras.models import Sequential\n",
    "from keras.layers import Dense, Activation, Flatten, LeakyReLU, Conv2D, MaxPooling2D, BatchNormalization\n",
    "from keras.optimizers import Adam\n",
    "from keras.callbacks import ReduceLROnPlateau\n",
    "from keras.datasets import fashion_mnist"
   ]
  },
  {
   "cell_type": "code",
   "execution_count": 3,
   "id": "79eb7aa9",
   "metadata": {},
   "outputs": [],
   "source": [
    "# conda activate py36"
   ]
  },
  {
   "cell_type": "code",
   "execution_count": 4,
   "id": "884b2796",
   "metadata": {},
   "outputs": [
    {
     "name": "stdout",
     "output_type": "stream",
     "text": [
      "Downloading data from http://fashion-mnist.s3-website.eu-central-1.amazonaws.com/train-labels-idx1-ubyte.gz\n",
      "32768/29515 [=================================] - 0s 2us/step\n",
      "Downloading data from http://fashion-mnist.s3-website.eu-central-1.amazonaws.com/train-images-idx3-ubyte.gz\n",
      "26427392/26421880 [==============================] - 0s 0us/step\n",
      "Downloading data from http://fashion-mnist.s3-website.eu-central-1.amazonaws.com/t10k-labels-idx1-ubyte.gz\n",
      "8192/5148 [===============================================] - 0s 0us/step\n",
      "Downloading data from http://fashion-mnist.s3-website.eu-central-1.amazonaws.com/t10k-images-idx3-ubyte.gz\n",
      "4423680/4422102 [==============================] - 0s 0us/step\n"
     ]
    }
   ],
   "source": [
    "(X_train, Y_train), (X_test, Y_test) = fashion_mnist.load_data()"
   ]
  },
  {
   "cell_type": "code",
   "execution_count": 7,
   "id": "14332caa",
   "metadata": {},
   "outputs": [
    {
     "data": {
      "text/plain": [
       "<matplotlib.image.AxesImage at 0x7f958103e828>"
      ]
     },
     "execution_count": 7,
     "metadata": {},
     "output_type": "execute_result"
    },
    {
     "data": {
      "image/png": "[encoded data removed]",
      "text/plain": [
       "<Figure size 432x288 with 1 Axes>"
      ]
     },
     "metadata": {
      "needs_background": "light"
     },
     "output_type": "display_data"
    }
   ],
   "source": [
    "plt.imshow(X_train[0], cmap='gray')"
   ]
  },
  {
   "cell_type": "code",
   "execution_count": 33,
   "id": "0493112e",
   "metadata": {},
   "outputs": [],
   "source": [
    "max_rbg_value = 255\n",
    "width = height = X_train.shape[1]\n",
    "\n",
    "X_train = X_train.reshape((X_train.shape[0],\n",
    "                          width,\n",
    "                          height,\n",
    "                          1)).astype(np.float32)/max_rbg_value\n",
    "\n",
    "X_test = X_test.reshape((X_test.shape[0],\n",
    "                          width,\n",
    "                          height,\n",
    "                          1)).astype(np.float32)/max_rbg_value\n",
    "\n",
    "Y_train = to_categorical(Y_train, num_classes=10)\n",
    "Y_test = to_categorical(Y_test, num_classes=10)"
   ]
  },
  {
   "cell_type": "code",
   "execution_count": 42,
   "id": "daa2b474",
   "metadata": {},
   "outputs": [],
   "source": [
    "model = Sequential()\n",
    "nb_classes = 10\n",
    "\n",
    "model.add(Conv2D(filters=32, \n",
    "                 kernel_size=(3,3), \n",
    "                 padding='same',\n",
    "                 input_shape=(X_train.shape[1], X_train.shape[2], 1)\n",
    "                 ))\n",
    "\n",
    "model.add(BatchNormalization())\n",
    "model.add(LeakyReLU(alpha=.1))\n",
    "\n",
    "model.add(Conv2D(filters=64, \n",
    "                 kernel_size=(3,3), \n",
    "                 padding='same'))\n",
    "          \n",
    "model.add(BatchNormalization())\n",
    "model.add(LeakyReLU(alpha=.1))\n",
    "          \n",
    "model.add(Conv2D(filters=128,\n",
    "                kernel_size=(3,3),\n",
    "                padding='same'))\n",
    "\n",
    "model.add(BatchNormalization())\n",
    "model.add(LeakyReLU(alpha=.1))\n",
    "\n",
    "model.add(Conv2D(filters=128,\n",
    "                kernel_size=(3,3),\n",
    "                padding='same'))\n",
    "\n",
    "model.add(BatchNormalization())\n",
    "model.add(LeakyReLU(alpha=.1))\n",
    "\n",
    "model.add(MaxPooling2D(pool_size=(2,2)))\n",
    "\n",
    "model.add(Flatten())\n",
    "\n",
    "model.add(Dense(units=1024))\n",
    "model.add(BatchNormalization())\n",
    "model.add(LeakyReLU(alpha=.1))\n",
    "\n",
    "model.add(Dense(units=1024))\n",
    "model.add(BatchNormalization())\n",
    "model.add(LeakyReLU(alpha=.1))\n",
    "\n",
    "model.add(Dense(units=nb_classes))\n",
    "model.add(Activation('softmax'))\n",
    "\n",
    "model.compile(optimizer=Adam(lr=.0001, \n",
    "                             decay=1e-5),\n",
    "                             loss='categorical_crossentropy',\n",
    "                             metrics=['accuracy'])"
   ]
  },
  {
   "cell_type": "code",
   "execution_count": 43,
   "id": "12570720",
   "metadata": {},
   "outputs": [
    {
     "name": "stdout",
     "output_type": "stream",
     "text": [
      "Train on 60000 samples, validate on 10000 samples\n",
      "Epoch 1/3\n",
      "60000/60000 [==============================] - 11754s 196ms/step - loss: 0.3186 - accuracy: 0.8849 - val_loss: 2.6993 - val_accuracy: 0.1051\n",
      "Epoch 2/3\n",
      "60000/60000 [==============================] - 2425s 40ms/step - loss: 0.1498 - accuracy: 0.9468 - val_loss: 0.6383 - val_accuracy: 0.7996\n",
      "Epoch 3/3\n",
      "60000/60000 [==============================] - 2476s 41ms/step - loss: 0.0733 - accuracy: 0.9758 - val_loss: 0.3136 - val_accuracy: 0.8984\n"
     ]
    }
   ],
   "source": [
    "# Train Model:\n",
    "\n",
    "nb_epochs = 3\n",
    "steps_per_epoch = 150\n",
    "train_batch_size = 256\n",
    "test_batch_size = 100\n",
    "\n",
    "history = model.fit(X_train, Y_train,\n",
    "                   epochs=3,\n",
    "                   batch_size=256,\n",
    "                   validation_data=(X_test, Y_test))"
   ]
  },
  {
   "cell_type": "code",
   "execution_count": 44,
   "id": "cf733d56",
   "metadata": {},
   "outputs": [
    {
     "data": {
      "image/png": "[encoded data removed]",
      "text/plain": [
       "<Figure size 432x288 with 1 Axes>"
      ]
     },
     "metadata": {
      "needs_background": "light"
     },
     "output_type": "display_data"
    }
   ],
   "source": [
    "# Plot train history:\n",
    "\n",
    "plt.plot(history.history['accuracy'], label='train')\n",
    "plt.plot(history.history['val_accuracy'], label='test')\n",
    "plt.title('model accuracy')\n",
    "plt.ylabel('accuracy')\n",
    "plt.xlabel('epoch')\n",
    "plt.legend(loc='upper left')\n",
    "plt.show()"
   ]
  },
  {
   "cell_type": "code",
   "execution_count": null,
   "id": "bee3c425",
   "metadata": {},
   "outputs": [],
   "source": []
  }
 ],
 "metadata": {
  "kernelspec": {
   "display_name": "Python 3",
   "language": "python",
   "name": "python3"
  },
  "language_info": {
   "codemirror_mode": {
    "name": "ipython",
    "version": 3
   },
   "file_extension": ".py",
   "mimetype": "text/x-python",
   "name": "python",
   "nbconvert_exporter": "python",
   "pygments_lexer": "ipython3",
   "version": "3.6.13"
  }
 },
 "nbformat": 4,
 "nbformat_minor": 5
}
